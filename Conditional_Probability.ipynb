{
  "nbformat": 4,
  "nbformat_minor": 0,
  "metadata": {
    "colab": {
      "provenance": [],
      "authorship_tag": "ABX9TyOg5bZI2XGg8UtyLmQmiLeJ",
      "include_colab_link": true
    },
    "kernelspec": {
      "name": "python3",
      "display_name": "Python 3"
    },
    "language_info": {
      "name": "python"
    }
  },
  "cells": [
    {
      "cell_type": "markdown",
      "metadata": {
        "id": "view-in-github",
        "colab_type": "text"
      },
      "source": [
        "<a href=\"https://colab.research.google.com/github/KikiopeShodipe/Conditional-Probability/blob/main/Conditional_Probability.ipynb\" target=\"_parent\"><img src=\"https://colab.research.google.com/assets/colab-badge.svg\" alt=\"Open In Colab\"/></a>"
      ]
    },
    {
      "cell_type": "code",
      "execution_count": 4,
      "metadata": {
        "colab": {
          "base_uri": "https://localhost:8080/"
        },
        "id": "aEqHYVu3u-1S",
        "outputId": "7976b776-81cd-4d8e-be54-8081c09b6c22"
      },
      "outputs": [
        {
          "output_type": "stream",
          "name": "stdout",
          "text": [
            "Check the probability of any event occuring using different options.\n",
            "Is the student a Freshman?\n",
            "1.Yes \n",
            "2. No\n",
            "Enter your choice (1/2):1\n",
            "Is the student eating in the dining hall?\n",
            "1.Yes \n",
            "2.No\n",
            "Enter your choice (1/2):2\n",
            "The probability of a freshman, eating or not eating in the dining hall: 0.25\n",
            "The probability of a freshman, eating or not eating in the dining hall: 0.075\n"
          ]
        }
      ],
      "source": [
        "#find the probability of a student who eats in the dining hall,if the student is a freshman\n",
        "def a_and_b(a,b):\n",
        "  if a==1:\n",
        "    prob_student=0.3\n",
        "    if b==1:\n",
        "      prob_dining=0.75\n",
        "    else:\n",
        "      prob_dining=0.25\n",
        "    print(\"The probability of a freshman, eating or not eating in the dining hall:\",prob_dining)\n",
        "  if a==2:#not a freshman\n",
        "    prob_student=0.7\n",
        "    if b==1:\n",
        "      prob_dining=0.6\n",
        "    else:\n",
        "      prob_dining=0.4\n",
        "    print(\"The probability of a student who is not a freshman, eating or not eating in the dining hall:\",prob_dining)\n",
        "  prob_a_and_b=prob_student*prob_dining#multiplication rule\n",
        "  return prob_a_and_b\n",
        "print(\"Check the probability of any event occuring using different options.\")\n",
        "print(\"Is the student a Freshman?\\n1.Yes \\n2. No\")\n",
        "a=int(input(\"Enter your choice (1/2):\"))\n",
        "print(\"Is the student eating in the dining hall?\\n1.Yes \\n2.No\")\n",
        "b=int(input(\"Enter your choice (1/2):\"))\n",
        "#print the output\n",
        "print(\"The probability of a freshman, eating or not eating in the dining hall:\",a_and_b(a,b))"
      ]
    }
  ]
}